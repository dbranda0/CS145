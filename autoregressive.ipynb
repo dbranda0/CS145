{
  "nbformat": 4,
  "nbformat_minor": 0,
  "metadata": {
    "colab": {
      "name": "CS145.ipynb",
      "provenance": [],
      "collapsed_sections": []
    },
    "kernelspec": {
      "name": "python3",
      "display_name": "Python 3"
    },
    "language_info": {
      "name": "python"
    }
  },
  "cells": [
    {
      "cell_type": "code",
      "metadata": {
        "colab": {
          "base_uri": "https://localhost:8080/"
        },
        "id": "FnTSKSafi7MW",
        "outputId": "9f55e366-2248-4d55-ab2e-62044163c2f5"
      },
      "source": [
        "import sys\n",
        "from google.colab import drive\n",
        "import math\n",
        "import pandas as pd\n",
        "import csv\n",
        "import numpy as np\n",
        "import matplotlib.pyplot as plt\n",
        "from google.colab import files\n",
        "drive.mount('/content/drive')\n",
        "sys.path += ['/content/drive/My Drive/COVID']\n",
        "#from sklearn.linear_model import LinearRegression\n"
      ],
      "execution_count": null,
      "outputs": [
        {
          "output_type": "stream",
          "text": [
            "Drive already mounted at /content/drive; to attempt to forcibly remount, call drive.mount(\"/content/drive\", force_remount=True).\n"
          ],
          "name": "stdout"
        }
      ]
    },
    {
      "cell_type": "code",
      "metadata": {
        "id": "SS-fIlx5l3V-"
      },
      "source": [
        "path = \"/content/drive/MyDrive/COVID/train_trendency.csv\"\n",
        "df_tend = pd.read_csv(path)\n",
        "\n",
        "# path = \"/content/drive/MyDrive/COVID/train_vaccine.csv\"\n",
        "# df_vac = pd.read_csv(path)"
      ],
      "execution_count": null,
      "outputs": []
    },
    {
      "cell_type": "code",
      "metadata": {
        "id": "R_SIS59pJs2d"
      },
      "source": [
        "class Regression:\n",
        "    def __init__(self, m=1):\n",
        "        \"\"\"\n",
        "        Least squares regression.\n",
        "        \n",
        "        Attributes\n",
        "        --------------------\n",
        "            coef_   -- numpy array of shape (m+1,)\n",
        "                       estimated coefficients for the autoregression problem\n",
        "            m_      -- integer\n",
        "                       order for autoregression\n",
        "        \"\"\"\n",
        "\n",
        "        self.coef_ = None\n",
        "        self.m_ = m\n",
        "    \n",
        "    def fit(self, X, y):\n",
        "        \"\"\"\n",
        "        Parameters\n",
        "        --------------------\n",
        "            X       -- numpy array of shape (n,m+1), features\n",
        "            y       -- numpy array of shape (n,), targets\n",
        "        Returns\n",
        "        --------------------        \n",
        "            self    -- an instance of self\n",
        "        \"\"\"\n",
        "        #w= (X^T X)^{−1} X^T y\n",
        "        XTX = np.dot(X.T, X)           #(X^T X)\n",
        "        invXTX = np.linalg.pinv(XTX)   #(X^T X)^(-1)\n",
        "        invXTX_XT = np.dot(invXTX, X.T)#(X^T X)^(-1) * X^T\n",
        "        self.coef_ = np.dot(invXTX_XT, y)\n",
        "        return self\n",
        "        \n",
        "\n",
        "    def predict(self, X):\n",
        "        \"\"\"\n",
        "        Predict output for X. (using known values)\n",
        "        \n",
        "        Parameters\n",
        "        --------------------\n",
        "            X       -- numpy array of shape (n,m+1), features\n",
        "        \n",
        "        Returns\n",
        "        --------------------\n",
        "            y       -- numpy array of shape (n,), predictions\n",
        "        \"\"\"\n",
        "\n",
        "        if self.coef_ is None:\n",
        "            raise Exception(\"Model not initialized. Perform a fit first.\")\n",
        "        y = np.dot(X,self.coef_) #multiply X by w\n",
        "        return y\n",
        "    \n",
        "    def guess(self, n, vals):\n",
        "      m = self.m_\n",
        "      result = []\n",
        "      count = 0\n",
        "      coefs = self.coef_[1:]\n",
        "      intercept = self.coef_[0]\n",
        "      while count < n:\n",
        "        next_val = intercept + np.dot(coefs, vals[-m:])\n",
        "        count += 1\n",
        "        np.append(vals, [next_val])\n",
        "      return vals[-n:]\n",
        "      "
      ],
      "execution_count": null,
      "outputs": []
    },
    {
      "cell_type": "code",
      "metadata": {
        "id": "ni1FtzvsKCLx"
      },
      "source": [
        "def generate_polynomial(X, m):\n",
        "        pwrs = np.arange(0,m+1)\n",
        "        return np.array([np.power(x,pwrs) for x in X[:,0]])"
      ],
      "execution_count": null,
      "outputs": []
    },
    {
      "cell_type": "code",
      "metadata": {
        "id": "-U19H43CMPek"
      },
      "source": [
        "def generate_lag_data(X, m=1):\n",
        "  n = X.shape[0]\n",
        "  Intercept = np.ones(n-m).reshape((n-m),1)\n",
        "  Lag = np.array([X[p:p+m] for p in np.arange(0,X.size-m)])\n",
        "  return np.hstack((Intercept, Lag))\n",
        "# X = np.array([0,1,2,3,4,5])\n",
        "# print(generate_lag_data(X, 2))\n",
        "# print(X[2:])"
      ],
      "execution_count": null,
      "outputs": []
    },
    {
      "cell_type": "code",
      "metadata": {
        "id": "o-oFebKbsccL"
      },
      "source": [
        "death_raw = {}\n",
        "confirm = {}\n",
        "sts = df_tend[\"Province_State\"].unique()\n",
        "for st in sts:\n",
        "  death_raw[st] = df_tend.loc[df_tend[\"Province_State\"] == st][\"Deaths\"].to_numpy()\n",
        "  confirm[st] = df_tend.loc[df_tend[\"Province_State\"] == st][\"Confirmed\"].to_numpy()\n"
      ],
      "execution_count": null,
      "outputs": []
    },
    {
      "cell_type": "code",
      "metadata": {
        "id": "1IKJNsG8MQ4_"
      },
      "source": [
        "POLY_ORDER_D = 2\n",
        "DEATH_M = 40\n",
        "POLY_ORDER_C = 3\n",
        "CONFIRM_M=40"
      ],
      "execution_count": null,
      "outputs": []
    },
    {
      "cell_type": "code",
      "metadata": {
        "id": "avu5pUFluvWO"
      },
      "source": [
        "death_reg = {}\n",
        "confirm_reg ={}\n",
        "death_fit = {}\n",
        "confirm_fit = {}\n",
        "for st in sts:\n",
        "  X_D = generate_polynomial(np.arange(death_raw[st].size).reshape(-1, 1), POLY_ORDER_D)\n",
        "  death_reg[st] = Regression(POLY_ORDER_D).fit(X_D, death_raw[st])\n",
        "  death_fit[st] = death_raw[st] - death_reg[st].predict(X_D)\n",
        " \n",
        "  X_C = generate_polynomial(np.arange(death_raw[st].size).reshape(-1, 1), POLY_ORDER_C)\n",
        "  confirm_reg[st] = Regression(POLY_ORDER_C).fit(X_C, confirm[st])\n",
        "  confirm_fit[st] = confirm[st] - confirm_reg[st].predict(X_C)"
      ],
      "execution_count": null,
      "outputs": []
    },
    {
      "cell_type": "code",
      "metadata": {
        "colab": {
          "base_uri": "https://localhost:8080/",
          "height": 282
        },
        "id": "JZuZm0M3Kqda",
        "outputId": "09d287f0-9f2b-440b-d54d-2670330b2b54"
      },
      "source": [
        "plt.plot(death_fit[\"Alabama\"])"
      ],
      "execution_count": null,
      "outputs": [
        {
          "output_type": "execute_result",
          "data": {
            "text/plain": [
              "[<matplotlib.lines.Line2D at 0x7fb35dc8c7d0>]"
            ]
          },
          "metadata": {
            "tags": []
          },
          "execution_count": 205
        },
        {
          "output_type": "display_data",
          "data": {
            "image/png": "[encoded data removed]",
            "text/plain": [
              "<Figure size 432x288 with 1 Axes>"
            ]
          },
          "metadata": {
            "tags": [],
            "needs_background": "light"
          }
        }
      ]
    },
    {
      "cell_type": "code",
      "metadata": {
        "id": "a114g9jF9x4t"
      },
      "source": [
        "\n",
        "death_mod = {}\n",
        "for st in sts:\n",
        "  X_death = generate_lag_data(death_fit[st], DEATH_M)\n",
        "  death_mod[st] = Regression(DEATH_M).fit(X_death, death_fit[st][DEATH_M:])\n"
      ],
      "execution_count": null,
      "outputs": []
    },
    {
      "cell_type": "code",
      "metadata": {
        "id": "MmOYJe-R7g0l"
      },
      "source": [
        "death_results = {}\n",
        "death_count = death_raw[st].size\n",
        "\n",
        "for st in sts:\n",
        "  X_D = generate_polynomial(np.arange(death_count, death_count+30).reshape(-1, 1), POLY_ORDER_D)\n",
        "  death_results[st] = death_mod[st].guess(30, death_fit[st]) + death_reg[st].predict(X_D)\n",
        "  #print(st)"
      ],
      "execution_count": null,
      "outputs": []
    },
    {
      "cell_type": "code",
      "metadata": {
        "colab": {
          "base_uri": "https://localhost:8080/"
        },
        "id": "8AUrioSbIpwY",
        "outputId": "9bb3301f-b14f-44c8-e733-433c943d84aa"
      },
      "source": [
        "print(death_mod[\"Idaho\"].coef_)"
      ],
      "execution_count": null,
      "outputs": [
        {
          "output_type": "stream",
          "text": [
            "[0.34312869 0.75623352]\n"
          ],
          "name": "stdout"
        }
      ]
    },
    {
      "cell_type": "code",
      "metadata": {
        "id": "-02NF4xGt_Ox"
      },
      "source": [
        "confirm_mod = {}\n",
        "for st in sts:\n",
        "  X_confirm = generate_lag_data(confirm_fit[st], CONFIRM_M)\n",
        "  confirm_mod[st] = Regression(CONFIRM_M).fit(X_confirm, confirm_fit[st][CONFIRM_M:])\n"
      ],
      "execution_count": null,
      "outputs": []
    },
    {
      "cell_type": "code",
      "metadata": {
        "id": "BgEfVAlWRIpW"
      },
      "source": [
        "confirm_results = {}\n",
        "confirm_count = confirm[st].size\n",
        "\n",
        "for st in sts:\n",
        "  X_C = generate_polynomial(np.arange(confirm_count, confirm_count+30).reshape(-1, 1), POLY_ORDER_C)\n",
        "  confirm_results[st] = confirm_mod[st].guess(30, confirm_fit[st]) + confirm_reg[st].predict(X_C)\n",
        "  #print(st)"
      ],
      "execution_count": null,
      "outputs": []
    },
    {
      "cell_type": "code",
      "metadata": {
        "id": "gU55vBSBwfqx"
      },
      "source": [
        "def MAPE(predicted, truth):\n",
        "  n = predicted.size\n",
        "  total = 0\n",
        "  for i in range(n):\n",
        "    total += abs(predicted[i] - truth[i])/abs(truth[i])\n",
        "  return total/n"
      ],
      "execution_count": null,
      "outputs": []
    },
    {
      "cell_type": "code",
      "metadata": {
        "colab": {
          "base_uri": "https://localhost:8080/"
        },
        "id": "_UVGw6rU7UZ-",
        "outputId": "bcbbf219-c7a5-425b-9e6e-653e4075273f"
      },
      "source": [
        ""
      ],
      "execution_count": null,
      "outputs": [
        {
          "output_type": "stream",
          "text": [
            "0.0434981484974158\n",
            "0.020892117135980586\n",
            "0.032195132816698196\n"
          ],
          "name": "stdout"
        }
      ]
    },
    {
      "cell_type": "code",
      "metadata": {
        "id": "JXa1ge5oWd0M"
      },
      "source": [
        "with open(\"/content/drive/MyDrive/COVID/submission.csv\", 'w') as csvfile: \n",
        "    csvwriter = csv.writer(csvfile) \n",
        "        \n",
        "    # writing the fields \n",
        "    csvwriter.writerow([\"ID\", \"Confirmed\", \"Deaths\"]) \n",
        "    id = 0\n",
        "    for i in range(0,30):\n",
        "      for st in sts:\n",
        "        csvwriter.writerow([id, confirm_results[st][i], death_results[st][i]])\n",
        "        id += 1"
      ],
      "execution_count": null,
      "outputs": []
    },
    {
      "cell_type": "code",
      "metadata": {
        "colab": {
          "base_uri": "https://localhost:8080/"
        },
        "id": "dZsMc45sX7w8",
        "outputId": "c84e9834-ecd5-415f-b6a3-23e14f28f902"
      },
      "source": [
        "print(confirm_results[\"Alabama\"][0])"
      ],
      "execution_count": null,
      "outputs": [
        {
          "output_type": "stream",
          "text": [
            "516885.86833803845\n"
          ],
          "name": "stdout"
        }
      ]
    }
  ]
}